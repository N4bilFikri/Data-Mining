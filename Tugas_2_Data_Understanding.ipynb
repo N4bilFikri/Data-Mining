{
  "nbformat": 4,
  "nbformat_minor": 0,
  "metadata": {
    "colab": {
      "provenance": [],
      "include_colab_link": true
    },
    "kernelspec": {
      "name": "python3",
      "display_name": "Python 3"
    },
    "language_info": {
      "name": "python"
    }
  },
  "cells": [
    {
      "cell_type": "markdown",
      "metadata": {
        "id": "view-in-github",
        "colab_type": "text"
      },
      "source": [
        "<a href=\"https://colab.research.google.com/github/N4bilFikri/Data-Mining/blob/main/Tugas_2_Data_Understanding.ipynb\" target=\"_parent\"><img src=\"https://colab.research.google.com/assets/colab-badge.svg\" alt=\"Open In Colab\"/></a>"
      ]
    },
    {
      "cell_type": "markdown",
      "source": [
        "# *Perbandingan Tingkat Ekonomi Antara Anak-anak Miskin & Kaya di Negara-negara Berkembang* #"
      ],
      "metadata": {
        "id": "h3AZjxo2ZxS6"
      }
    },
    {
      "cell_type": "markdown",
      "source": [
        "#**Import Library**"
      ],
      "metadata": {
        "id": "JNBmfbIjWxgM"
      }
    },
    {
      "cell_type": "code",
      "source": [
        "import seaborn as sns\n",
        "import matplotlib.pyplot as plt\n",
        "import plotly.express as px\n",
        "import pandas as pd\n",
        "import numpy as np"
      ],
      "metadata": {
        "id": "JsnHJGLtW06a"
      },
      "execution_count": 1,
      "outputs": []
    },
    {
      "cell_type": "markdown",
      "source": [
        "#**BUSINESS UNDERSTANDING**"
      ],
      "metadata": {
        "id": "NjuQhrNyZtm3"
      }
    },
    {
      "cell_type": "markdown",
      "source": [
        "##**Business Objective**"
      ],
      "metadata": {
        "id": "qzSZy2KwZ4zx"
      }
    },
    {
      "cell_type": "markdown",
      "source": [
        "Tujuan dari dataset ini adalah untuk Menganalisis tingkat negara-negara dengan kesenjangan akses pendidikan yang signifikan antara kelompok anak miskin dan kaya pada negara-negara yang berkembang."
      ],
      "metadata": {
        "id": "hU2-bH_KZ8Ge"
      }
    },
    {
      "cell_type": "markdown",
      "source": [
        "##**Assess Situation**"
      ],
      "metadata": {
        "id": "3dTYY-qjZ_Yz"
      }
    },
    {
      "cell_type": "markdown",
      "source": [
        "Situasi bisnis yang mendasari analisis ini adalah terjadinya ketimpangan pendidikan di negara-negara berkembang, terdapat kesenjangan yang signifikan antara anak-anak yang hidup dalam kemiskinan dan anak-anak yang berasal dari keluarga kaya dalam hal akses terhadap pendidikan yang berkualitas.\n",
        "\n"
      ],
      "metadata": {
        "id": "3mI7ZTjDaGnC"
      }
    },
    {
      "cell_type": "markdown",
      "source": [
        "##**Data Mining Goals**"
      ],
      "metadata": {
        "id": "Tqvpt5r-aJKs"
      }
    },
    {
      "cell_type": "markdown",
      "source": [
        "Tujuan dari Data Mining pada dataset ini adalah untuk mengidentifikasi faktor penyebab utama yang berkontribusi pada kesenjangan akses terhadap materi pembelajaran bagi anak-anak miskin di negara-negara berkembang.\n",
        "\n"
      ],
      "metadata": {
        "id": "GXsyNC0zaO-o"
      }
    },
    {
      "cell_type": "markdown",
      "source": [
        "##**Project Plan**"
      ],
      "metadata": {
        "id": "78Yvo7Q9aRTt"
      }
    },
    {
      "cell_type": "markdown",
      "source": [
        "Rencana proyek untuk menganalisis dataset ini mulanya dengan mengumpulkan data yang relevan & memastikan keakuratannya. Selanjutnya, data diidentifikasi tujuan analisis yang ingin dicapai, setelah itu data dieksplorasi untuk memahami karakteristik data, distribusi variabel, dan hubungan antar variabel. Kemudian menggunakan metode meringkas data dan analisis faktor-faktor yang mempengaruhi data, serta membuat kesimpulan yang jelas dan ringkas berdasarkan temuan analisis.\n",
        "\n"
      ],
      "metadata": {
        "id": "H0uheBdyaUfH"
      }
    },
    {
      "cell_type": "markdown",
      "source": [
        "#**DATA UNDERSTANDING**"
      ],
      "metadata": {
        "id": "8yFrLpBtZXuy"
      }
    },
    {
      "cell_type": "markdown",
      "source": [
        "##**Collect Initial Data**"
      ],
      "metadata": {
        "id": "tjm5LzEuT0oe"
      }
    },
    {
      "cell_type": "markdown",
      "source": [
        "Sumber data yang saya ambil merupakan dari website kaggle, dimana disana terdapat berbagai macam data-data yang lengkap, https://www.kaggle.com/datasets/mpwolke/cusersmarildownloadsoddscsv"
      ],
      "metadata": {
        "id": "SsIGird1UBw8"
      }
    },
    {
      "cell_type": "code",
      "source": [
        "df=pd.read_csv('./data.csv')\n",
        "df.head()"
      ],
      "metadata": {
        "colab": {
          "base_uri": "https://localhost:8080/",
          "height": 244
        },
        "id": "LT5QKe_QOXH5",
        "outputId": "9efda687-d1b0-4c01-c304-658be6f0e3ac"
      },
      "execution_count": 2,
      "outputs": [
        {
          "output_type": "execute_result",
          "data": {
            "text/plain": [
              "  country;total;poorest_20perc;richest_20perc;diff\n",
              "0       Lao People's Democratic Republic;5;1;24;24\n",
              "1                                  Ghana;6;1;23;22\n",
              "2                                 Bhutan;6;1;24;23\n",
              "3                              Honduras;11;1;34;33\n",
              "4                    Dominican Republic;10;2;28;26"
            ],
            "text/html": [
              "\n",
              "  <div id=\"df-b3698544-ca8a-4d19-9526-a03c49213843\" class=\"colab-df-container\">\n",
              "    <div>\n",
              "<style scoped>\n",
              "    .dataframe tbody tr th:only-of-type {\n",
              "        vertical-align: middle;\n",
              "    }\n",
              "\n",
              "    .dataframe tbody tr th {\n",
              "        vertical-align: top;\n",
              "    }\n",
              "\n",
              "    .dataframe thead th {\n",
              "        text-align: right;\n",
              "    }\n",
              "</style>\n",
              "<table border=\"1\" class=\"dataframe\">\n",
              "  <thead>\n",
              "    <tr style=\"text-align: right;\">\n",
              "      <th></th>\n",
              "      <th>country;total;poorest_20perc;richest_20perc;diff</th>\n",
              "    </tr>\n",
              "  </thead>\n",
              "  <tbody>\n",
              "    <tr>\n",
              "      <th>0</th>\n",
              "      <td>Lao People's Democratic Republic;5;1;24;24</td>\n",
              "    </tr>\n",
              "    <tr>\n",
              "      <th>1</th>\n",
              "      <td>Ghana;6;1;23;22</td>\n",
              "    </tr>\n",
              "    <tr>\n",
              "      <th>2</th>\n",
              "      <td>Bhutan;6;1;24;23</td>\n",
              "    </tr>\n",
              "    <tr>\n",
              "      <th>3</th>\n",
              "      <td>Honduras;11;1;34;33</td>\n",
              "    </tr>\n",
              "    <tr>\n",
              "      <th>4</th>\n",
              "      <td>Dominican Republic;10;2;28;26</td>\n",
              "    </tr>\n",
              "  </tbody>\n",
              "</table>\n",
              "</div>\n",
              "    <div class=\"colab-df-buttons\">\n",
              "\n",
              "  <div class=\"colab-df-container\">\n",
              "    <button class=\"colab-df-convert\" onclick=\"convertToInteractive('df-b3698544-ca8a-4d19-9526-a03c49213843')\"\n",
              "            title=\"Convert this dataframe to an interactive table.\"\n",
              "            style=\"display:none;\">\n",
              "\n",
              "  <svg xmlns=\"http://www.w3.org/2000/svg\" height=\"24px\" viewBox=\"0 -960 960 960\">\n",
              "    <path d=\"M120-120v-720h720v720H120Zm60-500h600v-160H180v160Zm220 220h160v-160H400v160Zm0 220h160v-160H400v160ZM180-400h160v-160H180v160Zm440 0h160v-160H620v160ZM180-180h160v-160H180v160Zm440 0h160v-160H620v160Z\"/>\n",
              "  </svg>\n",
              "    </button>\n",
              "\n",
              "  <style>\n",
              "    .colab-df-container {\n",
              "      display:flex;\n",
              "      gap: 12px;\n",
              "    }\n",
              "\n",
              "    .colab-df-convert {\n",
              "      background-color: #E8F0FE;\n",
              "      border: none;\n",
              "      border-radius: 50%;\n",
              "      cursor: pointer;\n",
              "      display: none;\n",
              "      fill: #1967D2;\n",
              "      height: 32px;\n",
              "      padding: 0 0 0 0;\n",
              "      width: 32px;\n",
              "    }\n",
              "\n",
              "    .colab-df-convert:hover {\n",
              "      background-color: #E2EBFA;\n",
              "      box-shadow: 0px 1px 2px rgba(60, 64, 67, 0.3), 0px 1px 3px 1px rgba(60, 64, 67, 0.15);\n",
              "      fill: #174EA6;\n",
              "    }\n",
              "\n",
              "    .colab-df-buttons div {\n",
              "      margin-bottom: 4px;\n",
              "    }\n",
              "\n",
              "    [theme=dark] .colab-df-convert {\n",
              "      background-color: #3B4455;\n",
              "      fill: #D2E3FC;\n",
              "    }\n",
              "\n",
              "    [theme=dark] .colab-df-convert:hover {\n",
              "      background-color: #434B5C;\n",
              "      box-shadow: 0px 1px 3px 1px rgba(0, 0, 0, 0.15);\n",
              "      filter: drop-shadow(0px 1px 2px rgba(0, 0, 0, 0.3));\n",
              "      fill: #FFFFFF;\n",
              "    }\n",
              "  </style>\n",
              "\n",
              "    <script>\n",
              "      const buttonEl =\n",
              "        document.querySelector('#df-b3698544-ca8a-4d19-9526-a03c49213843 button.colab-df-convert');\n",
              "      buttonEl.style.display =\n",
              "        google.colab.kernel.accessAllowed ? 'block' : 'none';\n",
              "\n",
              "      async function convertToInteractive(key) {\n",
              "        const element = document.querySelector('#df-b3698544-ca8a-4d19-9526-a03c49213843');\n",
              "        const dataTable =\n",
              "          await google.colab.kernel.invokeFunction('convertToInteractive',\n",
              "                                                    [key], {});\n",
              "        if (!dataTable) return;\n",
              "\n",
              "        const docLinkHtml = 'Like what you see? Visit the ' +\n",
              "          '<a target=\"_blank\" href=https://colab.research.google.com/notebooks/data_table.ipynb>data table notebook</a>'\n",
              "          + ' to learn more about interactive tables.';\n",
              "        element.innerHTML = '';\n",
              "        dataTable['output_type'] = 'display_data';\n",
              "        await google.colab.output.renderOutput(dataTable, element);\n",
              "        const docLink = document.createElement('div');\n",
              "        docLink.innerHTML = docLinkHtml;\n",
              "        element.appendChild(docLink);\n",
              "      }\n",
              "    </script>\n",
              "  </div>\n",
              "\n",
              "\n",
              "<div id=\"df-d2742967-7460-4b88-b24a-3cc4004edf43\">\n",
              "  <button class=\"colab-df-quickchart\" onclick=\"quickchart('df-d2742967-7460-4b88-b24a-3cc4004edf43')\"\n",
              "            title=\"Suggest charts\"\n",
              "            style=\"display:none;\">\n",
              "\n",
              "<svg xmlns=\"http://www.w3.org/2000/svg\" height=\"24px\"viewBox=\"0 0 24 24\"\n",
              "     width=\"24px\">\n",
              "    <g>\n",
              "        <path d=\"M19 3H5c-1.1 0-2 .9-2 2v14c0 1.1.9 2 2 2h14c1.1 0 2-.9 2-2V5c0-1.1-.9-2-2-2zM9 17H7v-7h2v7zm4 0h-2V7h2v10zm4 0h-2v-4h2v4z\"/>\n",
              "    </g>\n",
              "</svg>\n",
              "  </button>\n",
              "\n",
              "<style>\n",
              "  .colab-df-quickchart {\n",
              "      --bg-color: #E8F0FE;\n",
              "      --fill-color: #1967D2;\n",
              "      --hover-bg-color: #E2EBFA;\n",
              "      --hover-fill-color: #174EA6;\n",
              "      --disabled-fill-color: #AAA;\n",
              "      --disabled-bg-color: #DDD;\n",
              "  }\n",
              "\n",
              "  [theme=dark] .colab-df-quickchart {\n",
              "      --bg-color: #3B4455;\n",
              "      --fill-color: #D2E3FC;\n",
              "      --hover-bg-color: #434B5C;\n",
              "      --hover-fill-color: #FFFFFF;\n",
              "      --disabled-bg-color: #3B4455;\n",
              "      --disabled-fill-color: #666;\n",
              "  }\n",
              "\n",
              "  .colab-df-quickchart {\n",
              "    background-color: var(--bg-color);\n",
              "    border: none;\n",
              "    border-radius: 50%;\n",
              "    cursor: pointer;\n",
              "    display: none;\n",
              "    fill: var(--fill-color);\n",
              "    height: 32px;\n",
              "    padding: 0;\n",
              "    width: 32px;\n",
              "  }\n",
              "\n",
              "  .colab-df-quickchart:hover {\n",
              "    background-color: var(--hover-bg-color);\n",
              "    box-shadow: 0 1px 2px rgba(60, 64, 67, 0.3), 0 1px 3px 1px rgba(60, 64, 67, 0.15);\n",
              "    fill: var(--button-hover-fill-color);\n",
              "  }\n",
              "\n",
              "  .colab-df-quickchart-complete:disabled,\n",
              "  .colab-df-quickchart-complete:disabled:hover {\n",
              "    background-color: var(--disabled-bg-color);\n",
              "    fill: var(--disabled-fill-color);\n",
              "    box-shadow: none;\n",
              "  }\n",
              "\n",
              "  .colab-df-spinner {\n",
              "    border: 2px solid var(--fill-color);\n",
              "    border-color: transparent;\n",
              "    border-bottom-color: var(--fill-color);\n",
              "    animation:\n",
              "      spin 1s steps(1) infinite;\n",
              "  }\n",
              "\n",
              "  @keyframes spin {\n",
              "    0% {\n",
              "      border-color: transparent;\n",
              "      border-bottom-color: var(--fill-color);\n",
              "      border-left-color: var(--fill-color);\n",
              "    }\n",
              "    20% {\n",
              "      border-color: transparent;\n",
              "      border-left-color: var(--fill-color);\n",
              "      border-top-color: var(--fill-color);\n",
              "    }\n",
              "    30% {\n",
              "      border-color: transparent;\n",
              "      border-left-color: var(--fill-color);\n",
              "      border-top-color: var(--fill-color);\n",
              "      border-right-color: var(--fill-color);\n",
              "    }\n",
              "    40% {\n",
              "      border-color: transparent;\n",
              "      border-right-color: var(--fill-color);\n",
              "      border-top-color: var(--fill-color);\n",
              "    }\n",
              "    60% {\n",
              "      border-color: transparent;\n",
              "      border-right-color: var(--fill-color);\n",
              "    }\n",
              "    80% {\n",
              "      border-color: transparent;\n",
              "      border-right-color: var(--fill-color);\n",
              "      border-bottom-color: var(--fill-color);\n",
              "    }\n",
              "    90% {\n",
              "      border-color: transparent;\n",
              "      border-bottom-color: var(--fill-color);\n",
              "    }\n",
              "  }\n",
              "</style>\n",
              "\n",
              "  <script>\n",
              "    async function quickchart(key) {\n",
              "      const quickchartButtonEl =\n",
              "        document.querySelector('#' + key + ' button');\n",
              "      quickchartButtonEl.disabled = true;  // To prevent multiple clicks.\n",
              "      quickchartButtonEl.classList.add('colab-df-spinner');\n",
              "      try {\n",
              "        const charts = await google.colab.kernel.invokeFunction(\n",
              "            'suggestCharts', [key], {});\n",
              "      } catch (error) {\n",
              "        console.error('Error during call to suggestCharts:', error);\n",
              "      }\n",
              "      quickchartButtonEl.classList.remove('colab-df-spinner');\n",
              "      quickchartButtonEl.classList.add('colab-df-quickchart-complete');\n",
              "    }\n",
              "    (() => {\n",
              "      let quickchartButtonEl =\n",
              "        document.querySelector('#df-d2742967-7460-4b88-b24a-3cc4004edf43 button');\n",
              "      quickchartButtonEl.style.display =\n",
              "        google.colab.kernel.accessAllowed ? 'block' : 'none';\n",
              "    })();\n",
              "  </script>\n",
              "</div>\n",
              "    </div>\n",
              "  </div>\n"
            ],
            "application/vnd.google.colaboratory.intrinsic+json": {
              "type": "dataframe",
              "variable_name": "df",
              "summary": "{\n  \"name\": \"df\",\n  \"rows\": 37,\n  \"fields\": [\n    {\n      \"column\": \"country;total;poorest_20perc;richest_20perc;diff\",\n      \"properties\": {\n        \"dtype\": \"string\",\n        \"num_unique_values\": 37,\n        \"samples\": [\n          \"Mongolia;33;13;57;44\",\n          \"Panama;26;7;59;52\",\n          \"Dominican Republic;10;2;28;26\"\n        ],\n        \"semantic_type\": \"\",\n        \"description\": \"\"\n      }\n    }\n  ]\n}"
            }
          },
          "metadata": {},
          "execution_count": 2
        }
      ]
    },
    {
      "cell_type": "markdown",
      "source": [
        "##**Describe Data**"
      ],
      "metadata": {
        "id": "-hy6_uvIVOGH"
      }
    },
    {
      "cell_type": "markdown",
      "source": [
        "####Informasi Dasar"
      ],
      "metadata": {
        "id": "nl6nccPmUZ6F"
      }
    },
    {
      "cell_type": "code",
      "source": [
        "#Ketikan kode di sini, untuk menampilkan jumlah baris dan kolom yang ada pada dataset kalian\n",
        "df_file"
      ],
      "metadata": {
        "id": "zEyDvT0EUcB2",
        "colab": {
          "base_uri": "https://localhost:8080/",
          "height": 699
        },
        "outputId": "8adfe6ea-adb7-4286-cdc2-92b174c887e5"
      },
      "execution_count": null,
      "outputs": [
        {
          "output_type": "execute_result",
          "data": {
            "text/plain": [
              "     country;total;poorest_20perc;richest_20perc;diff\n",
              "0          Lao People's Democratic Republic;5;1;24;24\n",
              "1                                     Ghana;6;1;23;22\n",
              "2                                    Bhutan;6;1;24;23\n",
              "3                                 Honduras;11;1;34;33\n",
              "4                       Dominican Republic;10;2;28;26\n",
              "5                                Bangladesh;9;2;23;20\n",
              "6                                  Tunisia;18;3;40;37\n",
              "7                                  Algeria;11;3;23;20\n",
              "8                                    Yemen;10;4;31;28\n",
              "9                                 Suriname;25;4;61;57\n",
              "10                              Tajikistan;17;4;33;29\n",
              "11                                Viet Nam;26;6;58;53\n",
              "12                             El Salvador;18;6;44;38\n",
              "13                                  Panama;26;7;59;52\n",
              "14                                 Morocco;21;9;52;44\n",
              "15                                 Jordan;23;11;40;28\n",
              "16                   Syrian Arab Republic;30;12;53;41\n",
              "17                               Mongolia;33;13;57;44\n",
              "18                             Costa Rica;37;13;70;56\n",
              "19                             Kyrgyzstan;27;15;54;39\n",
              "20                                 Mexico;35;15;64;49\n",
              "21                                Albania;32;16;52;37\n",
              "22  The former Yugoslav Republic of Macedonia;52;1...\n",
              "23                               Thailand;41;23;73;50\n",
              "24                                 Belize;44;23;73;49\n",
              "25                                 Guyana;47;25;76;51\n",
              "26                           Turkmenistan;48;30;66;36\n",
              "27                             Uzbekistan;43;32;59;27\n",
              "28                    Republic of Moldova;68;33;87;54\n",
              "29                                Jamaica;55;34;73;39\n",
              "30                             Kazakhstan;51;35;73;38\n",
              "31                 Bosnia and Herzegovina;56;39;73;34\n",
              "32                              Argentina;61;40;83;42\n",
              "33                                Georgia;58;40;74;33\n",
              "34                                 Serbia;72;44;83;38\n",
              "35                             Montenegro;73;48;87;39\n",
              "36                    Trinidad and Tobago;81;66;93;27"
            ],
            "text/html": [
              "\n",
              "  <div id=\"df-09559cf1-531f-4c7f-b16b-19cea41798a2\" class=\"colab-df-container\">\n",
              "    <div>\n",
              "<style scoped>\n",
              "    .dataframe tbody tr th:only-of-type {\n",
              "        vertical-align: middle;\n",
              "    }\n",
              "\n",
              "    .dataframe tbody tr th {\n",
              "        vertical-align: top;\n",
              "    }\n",
              "\n",
              "    .dataframe thead th {\n",
              "        text-align: right;\n",
              "    }\n",
              "</style>\n",
              "<table border=\"1\" class=\"dataframe\">\n",
              "  <thead>\n",
              "    <tr style=\"text-align: right;\">\n",
              "      <th></th>\n",
              "      <th>country;total;poorest_20perc;richest_20perc;diff</th>\n",
              "    </tr>\n",
              "  </thead>\n",
              "  <tbody>\n",
              "    <tr>\n",
              "      <th>0</th>\n",
              "      <td>Lao People's Democratic Republic;5;1;24;24</td>\n",
              "    </tr>\n",
              "    <tr>\n",
              "      <th>1</th>\n",
              "      <td>Ghana;6;1;23;22</td>\n",
              "    </tr>\n",
              "    <tr>\n",
              "      <th>2</th>\n",
              "      <td>Bhutan;6;1;24;23</td>\n",
              "    </tr>\n",
              "    <tr>\n",
              "      <th>3</th>\n",
              "      <td>Honduras;11;1;34;33</td>\n",
              "    </tr>\n",
              "    <tr>\n",
              "      <th>4</th>\n",
              "      <td>Dominican Republic;10;2;28;26</td>\n",
              "    </tr>\n",
              "    <tr>\n",
              "      <th>5</th>\n",
              "      <td>Bangladesh;9;2;23;20</td>\n",
              "    </tr>\n",
              "    <tr>\n",
              "      <th>6</th>\n",
              "      <td>Tunisia;18;3;40;37</td>\n",
              "    </tr>\n",
              "    <tr>\n",
              "      <th>7</th>\n",
              "      <td>Algeria;11;3;23;20</td>\n",
              "    </tr>\n",
              "    <tr>\n",
              "      <th>8</th>\n",
              "      <td>Yemen;10;4;31;28</td>\n",
              "    </tr>\n",
              "    <tr>\n",
              "      <th>9</th>\n",
              "      <td>Suriname;25;4;61;57</td>\n",
              "    </tr>\n",
              "    <tr>\n",
              "      <th>10</th>\n",
              "      <td>Tajikistan;17;4;33;29</td>\n",
              "    </tr>\n",
              "    <tr>\n",
              "      <th>11</th>\n",
              "      <td>Viet Nam;26;6;58;53</td>\n",
              "    </tr>\n",
              "    <tr>\n",
              "      <th>12</th>\n",
              "      <td>El Salvador;18;6;44;38</td>\n",
              "    </tr>\n",
              "    <tr>\n",
              "      <th>13</th>\n",
              "      <td>Panama;26;7;59;52</td>\n",
              "    </tr>\n",
              "    <tr>\n",
              "      <th>14</th>\n",
              "      <td>Morocco;21;9;52;44</td>\n",
              "    </tr>\n",
              "    <tr>\n",
              "      <th>15</th>\n",
              "      <td>Jordan;23;11;40;28</td>\n",
              "    </tr>\n",
              "    <tr>\n",
              "      <th>16</th>\n",
              "      <td>Syrian Arab Republic;30;12;53;41</td>\n",
              "    </tr>\n",
              "    <tr>\n",
              "      <th>17</th>\n",
              "      <td>Mongolia;33;13;57;44</td>\n",
              "    </tr>\n",
              "    <tr>\n",
              "      <th>18</th>\n",
              "      <td>Costa Rica;37;13;70;56</td>\n",
              "    </tr>\n",
              "    <tr>\n",
              "      <th>19</th>\n",
              "      <td>Kyrgyzstan;27;15;54;39</td>\n",
              "    </tr>\n",
              "    <tr>\n",
              "      <th>20</th>\n",
              "      <td>Mexico;35;15;64;49</td>\n",
              "    </tr>\n",
              "    <tr>\n",
              "      <th>21</th>\n",
              "      <td>Albania;32;16;52;37</td>\n",
              "    </tr>\n",
              "    <tr>\n",
              "      <th>22</th>\n",
              "      <td>The former Yugoslav Republic of Macedonia;52;1...</td>\n",
              "    </tr>\n",
              "    <tr>\n",
              "      <th>23</th>\n",
              "      <td>Thailand;41;23;73;50</td>\n",
              "    </tr>\n",
              "    <tr>\n",
              "      <th>24</th>\n",
              "      <td>Belize;44;23;73;49</td>\n",
              "    </tr>\n",
              "    <tr>\n",
              "      <th>25</th>\n",
              "      <td>Guyana;47;25;76;51</td>\n",
              "    </tr>\n",
              "    <tr>\n",
              "      <th>26</th>\n",
              "      <td>Turkmenistan;48;30;66;36</td>\n",
              "    </tr>\n",
              "    <tr>\n",
              "      <th>27</th>\n",
              "      <td>Uzbekistan;43;32;59;27</td>\n",
              "    </tr>\n",
              "    <tr>\n",
              "      <th>28</th>\n",
              "      <td>Republic of Moldova;68;33;87;54</td>\n",
              "    </tr>\n",
              "    <tr>\n",
              "      <th>29</th>\n",
              "      <td>Jamaica;55;34;73;39</td>\n",
              "    </tr>\n",
              "    <tr>\n",
              "      <th>30</th>\n",
              "      <td>Kazakhstan;51;35;73;38</td>\n",
              "    </tr>\n",
              "    <tr>\n",
              "      <th>31</th>\n",
              "      <td>Bosnia and Herzegovina;56;39;73;34</td>\n",
              "    </tr>\n",
              "    <tr>\n",
              "      <th>32</th>\n",
              "      <td>Argentina;61;40;83;42</td>\n",
              "    </tr>\n",
              "    <tr>\n",
              "      <th>33</th>\n",
              "      <td>Georgia;58;40;74;33</td>\n",
              "    </tr>\n",
              "    <tr>\n",
              "      <th>34</th>\n",
              "      <td>Serbia;72;44;83;38</td>\n",
              "    </tr>\n",
              "    <tr>\n",
              "      <th>35</th>\n",
              "      <td>Montenegro;73;48;87;39</td>\n",
              "    </tr>\n",
              "    <tr>\n",
              "      <th>36</th>\n",
              "      <td>Trinidad and Tobago;81;66;93;27</td>\n",
              "    </tr>\n",
              "  </tbody>\n",
              "</table>\n",
              "</div>\n",
              "    <div class=\"colab-df-buttons\">\n",
              "\n",
              "  <div class=\"colab-df-container\">\n",
              "    <button class=\"colab-df-convert\" onclick=\"convertToInteractive('df-09559cf1-531f-4c7f-b16b-19cea41798a2')\"\n",
              "            title=\"Convert this dataframe to an interactive table.\"\n",
              "            style=\"display:none;\">\n",
              "\n",
              "  <svg xmlns=\"http://www.w3.org/2000/svg\" height=\"24px\" viewBox=\"0 -960 960 960\">\n",
              "    <path d=\"M120-120v-720h720v720H120Zm60-500h600v-160H180v160Zm220 220h160v-160H400v160Zm0 220h160v-160H400v160ZM180-400h160v-160H180v160Zm440 0h160v-160H620v160ZM180-180h160v-160H180v160Zm440 0h160v-160H620v160Z\"/>\n",
              "  </svg>\n",
              "    </button>\n",
              "\n",
              "  <style>\n",
              "    .colab-df-container {\n",
              "      display:flex;\n",
              "      gap: 12px;\n",
              "    }\n",
              "\n",
              "    .colab-df-convert {\n",
              "      background-color: #E8F0FE;\n",
              "      border: none;\n",
              "      border-radius: 50%;\n",
              "      cursor: pointer;\n",
              "      display: none;\n",
              "      fill: #1967D2;\n",
              "      height: 32px;\n",
              "      padding: 0 0 0 0;\n",
              "      width: 32px;\n",
              "    }\n",
              "\n",
              "    .colab-df-convert:hover {\n",
              "      background-color: #E2EBFA;\n",
              "      box-shadow: 0px 1px 2px rgba(60, 64, 67, 0.3), 0px 1px 3px 1px rgba(60, 64, 67, 0.15);\n",
              "      fill: #174EA6;\n",
              "    }\n",
              "\n",
              "    .colab-df-buttons div {\n",
              "      margin-bottom: 4px;\n",
              "    }\n",
              "\n",
              "    [theme=dark] .colab-df-convert {\n",
              "      background-color: #3B4455;\n",
              "      fill: #D2E3FC;\n",
              "    }\n",
              "\n",
              "    [theme=dark] .colab-df-convert:hover {\n",
              "      background-color: #434B5C;\n",
              "      box-shadow: 0px 1px 3px 1px rgba(0, 0, 0, 0.15);\n",
              "      filter: drop-shadow(0px 1px 2px rgba(0, 0, 0, 0.3));\n",
              "      fill: #FFFFFF;\n",
              "    }\n",
              "  </style>\n",
              "\n",
              "    <script>\n",
              "      const buttonEl =\n",
              "        document.querySelector('#df-09559cf1-531f-4c7f-b16b-19cea41798a2 button.colab-df-convert');\n",
              "      buttonEl.style.display =\n",
              "        google.colab.kernel.accessAllowed ? 'block' : 'none';\n",
              "\n",
              "      async function convertToInteractive(key) {\n",
              "        const element = document.querySelector('#df-09559cf1-531f-4c7f-b16b-19cea41798a2');\n",
              "        const dataTable =\n",
              "          await google.colab.kernel.invokeFunction('convertToInteractive',\n",
              "                                                    [key], {});\n",
              "        if (!dataTable) return;\n",
              "\n",
              "        const docLinkHtml = 'Like what you see? Visit the ' +\n",
              "          '<a target=\"_blank\" href=https://colab.research.google.com/notebooks/data_table.ipynb>data table notebook</a>'\n",
              "          + ' to learn more about interactive tables.';\n",
              "        element.innerHTML = '';\n",
              "        dataTable['output_type'] = 'display_data';\n",
              "        await google.colab.output.renderOutput(dataTable, element);\n",
              "        const docLink = document.createElement('div');\n",
              "        docLink.innerHTML = docLinkHtml;\n",
              "        element.appendChild(docLink);\n",
              "      }\n",
              "    </script>\n",
              "  </div>\n",
              "\n",
              "\n",
              "<div id=\"df-34035375-5ce0-47f1-a342-36494fbd1ea3\">\n",
              "  <button class=\"colab-df-quickchart\" onclick=\"quickchart('df-34035375-5ce0-47f1-a342-36494fbd1ea3')\"\n",
              "            title=\"Suggest charts\"\n",
              "            style=\"display:none;\">\n",
              "\n",
              "<svg xmlns=\"http://www.w3.org/2000/svg\" height=\"24px\"viewBox=\"0 0 24 24\"\n",
              "     width=\"24px\">\n",
              "    <g>\n",
              "        <path d=\"M19 3H5c-1.1 0-2 .9-2 2v14c0 1.1.9 2 2 2h14c1.1 0 2-.9 2-2V5c0-1.1-.9-2-2-2zM9 17H7v-7h2v7zm4 0h-2V7h2v10zm4 0h-2v-4h2v4z\"/>\n",
              "    </g>\n",
              "</svg>\n",
              "  </button>\n",
              "\n",
              "<style>\n",
              "  .colab-df-quickchart {\n",
              "      --bg-color: #E8F0FE;\n",
              "      --fill-color: #1967D2;\n",
              "      --hover-bg-color: #E2EBFA;\n",
              "      --hover-fill-color: #174EA6;\n",
              "      --disabled-fill-color: #AAA;\n",
              "      --disabled-bg-color: #DDD;\n",
              "  }\n",
              "\n",
              "  [theme=dark] .colab-df-quickchart {\n",
              "      --bg-color: #3B4455;\n",
              "      --fill-color: #D2E3FC;\n",
              "      --hover-bg-color: #434B5C;\n",
              "      --hover-fill-color: #FFFFFF;\n",
              "      --disabled-bg-color: #3B4455;\n",
              "      --disabled-fill-color: #666;\n",
              "  }\n",
              "\n",
              "  .colab-df-quickchart {\n",
              "    background-color: var(--bg-color);\n",
              "    border: none;\n",
              "    border-radius: 50%;\n",
              "    cursor: pointer;\n",
              "    display: none;\n",
              "    fill: var(--fill-color);\n",
              "    height: 32px;\n",
              "    padding: 0;\n",
              "    width: 32px;\n",
              "  }\n",
              "\n",
              "  .colab-df-quickchart:hover {\n",
              "    background-color: var(--hover-bg-color);\n",
              "    box-shadow: 0 1px 2px rgba(60, 64, 67, 0.3), 0 1px 3px 1px rgba(60, 64, 67, 0.15);\n",
              "    fill: var(--button-hover-fill-color);\n",
              "  }\n",
              "\n",
              "  .colab-df-quickchart-complete:disabled,\n",
              "  .colab-df-quickchart-complete:disabled:hover {\n",
              "    background-color: var(--disabled-bg-color);\n",
              "    fill: var(--disabled-fill-color);\n",
              "    box-shadow: none;\n",
              "  }\n",
              "\n",
              "  .colab-df-spinner {\n",
              "    border: 2px solid var(--fill-color);\n",
              "    border-color: transparent;\n",
              "    border-bottom-color: var(--fill-color);\n",
              "    animation:\n",
              "      spin 1s steps(1) infinite;\n",
              "  }\n",
              "\n",
              "  @keyframes spin {\n",
              "    0% {\n",
              "      border-color: transparent;\n",
              "      border-bottom-color: var(--fill-color);\n",
              "      border-left-color: var(--fill-color);\n",
              "    }\n",
              "    20% {\n",
              "      border-color: transparent;\n",
              "      border-left-color: var(--fill-color);\n",
              "      border-top-color: var(--fill-color);\n",
              "    }\n",
              "    30% {\n",
              "      border-color: transparent;\n",
              "      border-left-color: var(--fill-color);\n",
              "      border-top-color: var(--fill-color);\n",
              "      border-right-color: var(--fill-color);\n",
              "    }\n",
              "    40% {\n",
              "      border-color: transparent;\n",
              "      border-right-color: var(--fill-color);\n",
              "      border-top-color: var(--fill-color);\n",
              "    }\n",
              "    60% {\n",
              "      border-color: transparent;\n",
              "      border-right-color: var(--fill-color);\n",
              "    }\n",
              "    80% {\n",
              "      border-color: transparent;\n",
              "      border-right-color: var(--fill-color);\n",
              "      border-bottom-color: var(--fill-color);\n",
              "    }\n",
              "    90% {\n",
              "      border-color: transparent;\n",
              "      border-bottom-color: var(--fill-color);\n",
              "    }\n",
              "  }\n",
              "</style>\n",
              "\n",
              "  <script>\n",
              "    async function quickchart(key) {\n",
              "      const quickchartButtonEl =\n",
              "        document.querySelector('#' + key + ' button');\n",
              "      quickchartButtonEl.disabled = true;  // To prevent multiple clicks.\n",
              "      quickchartButtonEl.classList.add('colab-df-spinner');\n",
              "      try {\n",
              "        const charts = await google.colab.kernel.invokeFunction(\n",
              "            'suggestCharts', [key], {});\n",
              "      } catch (error) {\n",
              "        console.error('Error during call to suggestCharts:', error);\n",
              "      }\n",
              "      quickchartButtonEl.classList.remove('colab-df-spinner');\n",
              "      quickchartButtonEl.classList.add('colab-df-quickchart-complete');\n",
              "    }\n",
              "    (() => {\n",
              "      let quickchartButtonEl =\n",
              "        document.querySelector('#df-34035375-5ce0-47f1-a342-36494fbd1ea3 button');\n",
              "      quickchartButtonEl.style.display =\n",
              "        google.colab.kernel.accessAllowed ? 'block' : 'none';\n",
              "    })();\n",
              "  </script>\n",
              "</div>\n",
              "    </div>\n",
              "  </div>\n"
            ],
            "application/vnd.google.colaboratory.intrinsic+json": {
              "type": "dataframe",
              "variable_name": "df_file",
              "summary": "{\n  \"name\": \"df_file\",\n  \"rows\": 37,\n  \"fields\": [\n    {\n      \"column\": \"country;total;poorest_20perc;richest_20perc;diff\",\n      \"properties\": {\n        \"dtype\": \"string\",\n        \"num_unique_values\": 37,\n        \"samples\": [\n          \"Mongolia;33;13;57;44\",\n          \"Panama;26;7;59;52\",\n          \"Dominican Republic;10;2;28;26\"\n        ],\n        \"semantic_type\": \"\",\n        \"description\": \"\"\n      }\n    }\n  ]\n}"
            }
          },
          "metadata": {},
          "execution_count": 22
        },
        {
          "output_type": "stream",
          "name": "stdout",
          "text": [
            "No charts were generated by quickchart\n"
          ]
        }
      ]
    },
    {
      "cell_type": "markdown",
      "source": [
        "Data ini memberikan gambaran tentang tingkat kemiskinan dan ketimpangan ekonomi di beberapa negara yang berkembang dalam dataset ini."
      ],
      "metadata": {
        "id": "ZwH62IRTVXNL"
      }
    },
    {
      "cell_type": "markdown",
      "source": [
        "####Informasi Lanjutan"
      ],
      "metadata": {
        "id": "IngaD9ZPgFLq"
      }
    },
    {
      "cell_type": "code",
      "source": [
        "df_file.info()"
      ],
      "metadata": {
        "colab": {
          "base_uri": "https://localhost:8080/"
        },
        "id": "9UVB8oZbhhCM",
        "outputId": "c360b517-b340-4e58-9cca-b826498b79fe"
      },
      "execution_count": null,
      "outputs": [
        {
          "output_type": "stream",
          "name": "stdout",
          "text": [
            "<class 'pandas.core.frame.DataFrame'>\n",
            "RangeIndex: 37 entries, 0 to 36\n",
            "Data columns (total 1 columns):\n",
            " #   Column                                            Non-Null Count  Dtype \n",
            "---  ------                                            --------------  ----- \n",
            " 0   country;total;poorest_20perc;richest_20perc;diff  37 non-null     object\n",
            "dtypes: object(1)\n",
            "memory usage: 424.0+ bytes\n"
          ]
        }
      ]
    },
    {
      "cell_type": "code",
      "source": [
        "print(\"Baris : \",df_file.shape[0])\n",
        "print(\"Baris : \",df_file.shape[1])"
      ],
      "metadata": {
        "colab": {
          "base_uri": "https://localhost:8080/"
        },
        "id": "hrG1-_6BiI8u",
        "outputId": "afe6e65a-f23a-4129-ed36-65a9f6040141"
      },
      "execution_count": null,
      "outputs": [
        {
          "output_type": "stream",
          "name": "stdout",
          "text": [
            "Baris :  37\n",
            "Baris :  1\n"
          ]
        }
      ]
    },
    {
      "cell_type": "code",
      "source": [
        "df.columns"
      ],
      "metadata": {
        "colab": {
          "base_uri": "https://localhost:8080/"
        },
        "id": "1yBQpKrVPjJj",
        "outputId": "fd8681b5-4bca-4b35-a09e-b895a3817162"
      },
      "execution_count": 5,
      "outputs": [
        {
          "output_type": "execute_result",
          "data": {
            "text/plain": [
              "Index(['country;total;poorest_20perc;richest_20perc;diff'], dtype='object')"
            ]
          },
          "metadata": {},
          "execution_count": 5
        }
      ]
    },
    {
      "cell_type": "markdown",
      "source": [
        "Jangan lupa sertakan penjelasan tiap kolomnya di sini ya, dari nama kolom, berapa jumlahnya, dan tipe data dari kolom tersebut (Kalau kolomnya 10 ya di buat sampai nomor 10)"
      ],
      "metadata": {
        "id": "-6miym5GVbaC"
      }
    },
    {
      "cell_type": "markdown",
      "source": [
        "Dataset ini berisi informasi tentang beberapa negara dan indikator kemiskinan yang terkait. Kolom-kolom dalam dataset ini adalah sebagai berikut:\n",
        "\n",
        "\n",
        "*   country: Nama negara yang tercantum dalam dataset.\n",
        "\n",
        "*   total: Jumlah total persentase penduduk yang hidup di bawah garis\n",
        "kemiskinan.\n",
        "\n",
        "*   poorest_20perc: Persentase penduduk paling miskin (20% terbawah) dalam negara tersebut.\n",
        "\n",
        "*   richest_20perc: Persentase penduduk paling kaya (20% teratas) dalam negara tersebut.\n",
        "\n",
        "*   diff: Perbedaan antara persentase penduduk paling miskin dan paling kaya dalam negara tersebut."
      ],
      "metadata": {
        "id": "sJCLJS5OjKz2"
      }
    },
    {
      "cell_type": "markdown",
      "source": [
        "####Informasi Statistik Deskriptif"
      ],
      "metadata": {
        "id": "D5GD3qzXVrF5"
      }
    },
    {
      "cell_type": "code",
      "source": [
        "df_file.describe()"
      ],
      "metadata": {
        "colab": {
          "base_uri": "https://localhost:8080/",
          "height": 308
        },
        "id": "jIbBs2Dxm4fh",
        "outputId": "5444a5d9-29db-479a-e477-cec471e34155"
      },
      "execution_count": null,
      "outputs": [
        {
          "output_type": "execute_result",
          "data": {
            "text/plain": [
              "           total  poorest_20perc  richest_20perc       diff\n",
              "count  37.000000       37.000000       37.000000  37.000000\n",
              "mean   34.756757       18.351351       56.783784  38.351351\n",
              "std    21.324745       16.538199       21.321787  11.368124\n",
              "min     5.000000        1.000000       23.000000  20.000000\n",
              "25%    18.000000        4.000000       40.000000  28.000000\n",
              "50%    32.000000       13.000000       59.000000  38.000000\n",
              "75%    51.000000       32.000000       73.000000  49.000000\n",
              "max    81.000000       66.000000       93.000000  62.000000"
            ],
            "text/html": [
              "\n",
              "  <div id=\"df-713d7442-4089-43d2-a98e-74752523b745\" class=\"colab-df-container\">\n",
              "    <div>\n",
              "<style scoped>\n",
              "    .dataframe tbody tr th:only-of-type {\n",
              "        vertical-align: middle;\n",
              "    }\n",
              "\n",
              "    .dataframe tbody tr th {\n",
              "        vertical-align: top;\n",
              "    }\n",
              "\n",
              "    .dataframe thead th {\n",
              "        text-align: right;\n",
              "    }\n",
              "</style>\n",
              "<table border=\"1\" class=\"dataframe\">\n",
              "  <thead>\n",
              "    <tr style=\"text-align: right;\">\n",
              "      <th></th>\n",
              "      <th>total</th>\n",
              "      <th>poorest_20perc</th>\n",
              "      <th>richest_20perc</th>\n",
              "      <th>diff</th>\n",
              "    </tr>\n",
              "  </thead>\n",
              "  <tbody>\n",
              "    <tr>\n",
              "      <th>count</th>\n",
              "      <td>37.000000</td>\n",
              "      <td>37.000000</td>\n",
              "      <td>37.000000</td>\n",
              "      <td>37.000000</td>\n",
              "    </tr>\n",
              "    <tr>\n",
              "      <th>mean</th>\n",
              "      <td>34.756757</td>\n",
              "      <td>18.351351</td>\n",
              "      <td>56.783784</td>\n",
              "      <td>38.351351</td>\n",
              "    </tr>\n",
              "    <tr>\n",
              "      <th>std</th>\n",
              "      <td>21.324745</td>\n",
              "      <td>16.538199</td>\n",
              "      <td>21.321787</td>\n",
              "      <td>11.368124</td>\n",
              "    </tr>\n",
              "    <tr>\n",
              "      <th>min</th>\n",
              "      <td>5.000000</td>\n",
              "      <td>1.000000</td>\n",
              "      <td>23.000000</td>\n",
              "      <td>20.000000</td>\n",
              "    </tr>\n",
              "    <tr>\n",
              "      <th>25%</th>\n",
              "      <td>18.000000</td>\n",
              "      <td>4.000000</td>\n",
              "      <td>40.000000</td>\n",
              "      <td>28.000000</td>\n",
              "    </tr>\n",
              "    <tr>\n",
              "      <th>50%</th>\n",
              "      <td>32.000000</td>\n",
              "      <td>13.000000</td>\n",
              "      <td>59.000000</td>\n",
              "      <td>38.000000</td>\n",
              "    </tr>\n",
              "    <tr>\n",
              "      <th>75%</th>\n",
              "      <td>51.000000</td>\n",
              "      <td>32.000000</td>\n",
              "      <td>73.000000</td>\n",
              "      <td>49.000000</td>\n",
              "    </tr>\n",
              "    <tr>\n",
              "      <th>max</th>\n",
              "      <td>81.000000</td>\n",
              "      <td>66.000000</td>\n",
              "      <td>93.000000</td>\n",
              "      <td>62.000000</td>\n",
              "    </tr>\n",
              "  </tbody>\n",
              "</table>\n",
              "</div>\n",
              "    <div class=\"colab-df-buttons\">\n",
              "\n",
              "  <div class=\"colab-df-container\">\n",
              "    <button class=\"colab-df-convert\" onclick=\"convertToInteractive('df-713d7442-4089-43d2-a98e-74752523b745')\"\n",
              "            title=\"Convert this dataframe to an interactive table.\"\n",
              "            style=\"display:none;\">\n",
              "\n",
              "  <svg xmlns=\"http://www.w3.org/2000/svg\" height=\"24px\" viewBox=\"0 -960 960 960\">\n",
              "    <path d=\"M120-120v-720h720v720H120Zm60-500h600v-160H180v160Zm220 220h160v-160H400v160Zm0 220h160v-160H400v160ZM180-400h160v-160H180v160Zm440 0h160v-160H620v160ZM180-180h160v-160H180v160Zm440 0h160v-160H620v160Z\"/>\n",
              "  </svg>\n",
              "    </button>\n",
              "\n",
              "  <style>\n",
              "    .colab-df-container {\n",
              "      display:flex;\n",
              "      gap: 12px;\n",
              "    }\n",
              "\n",
              "    .colab-df-convert {\n",
              "      background-color: #E8F0FE;\n",
              "      border: none;\n",
              "      border-radius: 50%;\n",
              "      cursor: pointer;\n",
              "      display: none;\n",
              "      fill: #1967D2;\n",
              "      height: 32px;\n",
              "      padding: 0 0 0 0;\n",
              "      width: 32px;\n",
              "    }\n",
              "\n",
              "    .colab-df-convert:hover {\n",
              "      background-color: #E2EBFA;\n",
              "      box-shadow: 0px 1px 2px rgba(60, 64, 67, 0.3), 0px 1px 3px 1px rgba(60, 64, 67, 0.15);\n",
              "      fill: #174EA6;\n",
              "    }\n",
              "\n",
              "    .colab-df-buttons div {\n",
              "      margin-bottom: 4px;\n",
              "    }\n",
              "\n",
              "    [theme=dark] .colab-df-convert {\n",
              "      background-color: #3B4455;\n",
              "      fill: #D2E3FC;\n",
              "    }\n",
              "\n",
              "    [theme=dark] .colab-df-convert:hover {\n",
              "      background-color: #434B5C;\n",
              "      box-shadow: 0px 1px 3px 1px rgba(0, 0, 0, 0.15);\n",
              "      filter: drop-shadow(0px 1px 2px rgba(0, 0, 0, 0.3));\n",
              "      fill: #FFFFFF;\n",
              "    }\n",
              "  </style>\n",
              "\n",
              "    <script>\n",
              "      const buttonEl =\n",
              "        document.querySelector('#df-713d7442-4089-43d2-a98e-74752523b745 button.colab-df-convert');\n",
              "      buttonEl.style.display =\n",
              "        google.colab.kernel.accessAllowed ? 'block' : 'none';\n",
              "\n",
              "      async function convertToInteractive(key) {\n",
              "        const element = document.querySelector('#df-713d7442-4089-43d2-a98e-74752523b745');\n",
              "        const dataTable =\n",
              "          await google.colab.kernel.invokeFunction('convertToInteractive',\n",
              "                                                    [key], {});\n",
              "        if (!dataTable) return;\n",
              "\n",
              "        const docLinkHtml = 'Like what you see? Visit the ' +\n",
              "          '<a target=\"_blank\" href=https://colab.research.google.com/notebooks/data_table.ipynb>data table notebook</a>'\n",
              "          + ' to learn more about interactive tables.';\n",
              "        element.innerHTML = '';\n",
              "        dataTable['output_type'] = 'display_data';\n",
              "        await google.colab.output.renderOutput(dataTable, element);\n",
              "        const docLink = document.createElement('div');\n",
              "        docLink.innerHTML = docLinkHtml;\n",
              "        element.appendChild(docLink);\n",
              "      }\n",
              "    </script>\n",
              "  </div>\n",
              "\n",
              "\n",
              "<div id=\"df-85998cd5-8bc5-4710-beb3-6fa2482687cd\">\n",
              "  <button class=\"colab-df-quickchart\" onclick=\"quickchart('df-85998cd5-8bc5-4710-beb3-6fa2482687cd')\"\n",
              "            title=\"Suggest charts\"\n",
              "            style=\"display:none;\">\n",
              "\n",
              "<svg xmlns=\"http://www.w3.org/2000/svg\" height=\"24px\"viewBox=\"0 0 24 24\"\n",
              "     width=\"24px\">\n",
              "    <g>\n",
              "        <path d=\"M19 3H5c-1.1 0-2 .9-2 2v14c0 1.1.9 2 2 2h14c1.1 0 2-.9 2-2V5c0-1.1-.9-2-2-2zM9 17H7v-7h2v7zm4 0h-2V7h2v10zm4 0h-2v-4h2v4z\"/>\n",
              "    </g>\n",
              "</svg>\n",
              "  </button>\n",
              "\n",
              "<style>\n",
              "  .colab-df-quickchart {\n",
              "      --bg-color: #E8F0FE;\n",
              "      --fill-color: #1967D2;\n",
              "      --hover-bg-color: #E2EBFA;\n",
              "      --hover-fill-color: #174EA6;\n",
              "      --disabled-fill-color: #AAA;\n",
              "      --disabled-bg-color: #DDD;\n",
              "  }\n",
              "\n",
              "  [theme=dark] .colab-df-quickchart {\n",
              "      --bg-color: #3B4455;\n",
              "      --fill-color: #D2E3FC;\n",
              "      --hover-bg-color: #434B5C;\n",
              "      --hover-fill-color: #FFFFFF;\n",
              "      --disabled-bg-color: #3B4455;\n",
              "      --disabled-fill-color: #666;\n",
              "  }\n",
              "\n",
              "  .colab-df-quickchart {\n",
              "    background-color: var(--bg-color);\n",
              "    border: none;\n",
              "    border-radius: 50%;\n",
              "    cursor: pointer;\n",
              "    display: none;\n",
              "    fill: var(--fill-color);\n",
              "    height: 32px;\n",
              "    padding: 0;\n",
              "    width: 32px;\n",
              "  }\n",
              "\n",
              "  .colab-df-quickchart:hover {\n",
              "    background-color: var(--hover-bg-color);\n",
              "    box-shadow: 0 1px 2px rgba(60, 64, 67, 0.3), 0 1px 3px 1px rgba(60, 64, 67, 0.15);\n",
              "    fill: var(--button-hover-fill-color);\n",
              "  }\n",
              "\n",
              "  .colab-df-quickchart-complete:disabled,\n",
              "  .colab-df-quickchart-complete:disabled:hover {\n",
              "    background-color: var(--disabled-bg-color);\n",
              "    fill: var(--disabled-fill-color);\n",
              "    box-shadow: none;\n",
              "  }\n",
              "\n",
              "  .colab-df-spinner {\n",
              "    border: 2px solid var(--fill-color);\n",
              "    border-color: transparent;\n",
              "    border-bottom-color: var(--fill-color);\n",
              "    animation:\n",
              "      spin 1s steps(1) infinite;\n",
              "  }\n",
              "\n",
              "  @keyframes spin {\n",
              "    0% {\n",
              "      border-color: transparent;\n",
              "      border-bottom-color: var(--fill-color);\n",
              "      border-left-color: var(--fill-color);\n",
              "    }\n",
              "    20% {\n",
              "      border-color: transparent;\n",
              "      border-left-color: var(--fill-color);\n",
              "      border-top-color: var(--fill-color);\n",
              "    }\n",
              "    30% {\n",
              "      border-color: transparent;\n",
              "      border-left-color: var(--fill-color);\n",
              "      border-top-color: var(--fill-color);\n",
              "      border-right-color: var(--fill-color);\n",
              "    }\n",
              "    40% {\n",
              "      border-color: transparent;\n",
              "      border-right-color: var(--fill-color);\n",
              "      border-top-color: var(--fill-color);\n",
              "    }\n",
              "    60% {\n",
              "      border-color: transparent;\n",
              "      border-right-color: var(--fill-color);\n",
              "    }\n",
              "    80% {\n",
              "      border-color: transparent;\n",
              "      border-right-color: var(--fill-color);\n",
              "      border-bottom-color: var(--fill-color);\n",
              "    }\n",
              "    90% {\n",
              "      border-color: transparent;\n",
              "      border-bottom-color: var(--fill-color);\n",
              "    }\n",
              "  }\n",
              "</style>\n",
              "\n",
              "  <script>\n",
              "    async function quickchart(key) {\n",
              "      const quickchartButtonEl =\n",
              "        document.querySelector('#' + key + ' button');\n",
              "      quickchartButtonEl.disabled = true;  // To prevent multiple clicks.\n",
              "      quickchartButtonEl.classList.add('colab-df-spinner');\n",
              "      try {\n",
              "        const charts = await google.colab.kernel.invokeFunction(\n",
              "            'suggestCharts', [key], {});\n",
              "      } catch (error) {\n",
              "        console.error('Error during call to suggestCharts:', error);\n",
              "      }\n",
              "      quickchartButtonEl.classList.remove('colab-df-spinner');\n",
              "      quickchartButtonEl.classList.add('colab-df-quickchart-complete');\n",
              "    }\n",
              "    (() => {\n",
              "      let quickchartButtonEl =\n",
              "        document.querySelector('#df-85998cd5-8bc5-4710-beb3-6fa2482687cd button');\n",
              "      quickchartButtonEl.style.display =\n",
              "        google.colab.kernel.accessAllowed ? 'block' : 'none';\n",
              "    })();\n",
              "  </script>\n",
              "</div>\n",
              "    </div>\n",
              "  </div>\n"
            ],
            "application/vnd.google.colaboratory.intrinsic+json": {
              "type": "dataframe",
              "summary": "{\n  \"name\": \"df_file\",\n  \"rows\": 8,\n  \"fields\": [\n    {\n      \"column\": \"total\",\n      \"properties\": {\n        \"dtype\": \"number\",\n        \"std\": 23.17964297520688,\n        \"min\": 5.0,\n        \"max\": 81.0,\n        \"num_unique_values\": 8,\n        \"samples\": [\n          34.75675675675676,\n          32.0,\n          37.0\n        ],\n        \"semantic_type\": \"\",\n        \"description\": \"\"\n      }\n    },\n    {\n      \"column\": \"poorest_20perc\",\n      \"properties\": {\n        \"dtype\": \"number\",\n        \"std\": 21.154107122750283,\n        \"min\": 1.0,\n        \"max\": 66.0,\n        \"num_unique_values\": 8,\n        \"samples\": [\n          18.35135135135135,\n          13.0,\n          37.0\n        ],\n        \"semantic_type\": \"\",\n        \"description\": \"\"\n      }\n    },\n    {\n      \"column\": \"richest_20perc\",\n      \"properties\": {\n        \"dtype\": \"number\",\n        \"std\": 24.854588618807476,\n        \"min\": 21.321787416129506,\n        \"max\": 93.0,\n        \"num_unique_values\": 8,\n        \"samples\": [\n          56.78378378378378,\n          59.0,\n          37.0\n        ],\n        \"semantic_type\": \"\",\n        \"description\": \"\"\n      }\n    },\n    {\n      \"column\": \"diff\",\n      \"properties\": {\n        \"dtype\": \"number\",\n        \"std\": 15.946194468637533,\n        \"min\": 11.368123602170863,\n        \"max\": 62.0,\n        \"num_unique_values\": 8,\n        \"samples\": [\n          38.351351351351354,\n          38.0,\n          37.0\n        ],\n        \"semantic_type\": \"\",\n        \"description\": \"\"\n      }\n    }\n  ]\n}"
            }
          },
          "metadata": {},
          "execution_count": 31
        }
      ]
    },
    {
      "cell_type": "markdown",
      "source": [
        "\n",
        "> Berikut adalah penjelasan untuk setiap statistik yang ditampilkan:\n",
        "\n",
        "\n",
        "1.   Count (jumlah data): Menunjukkan jumlah data yang tidak hilang (non-null) pada setiap kolom. Statistik ini memberikan informasi tentang kelengkapan data pada kolom tersebut.\n",
        "\n",
        "2.   Mean (rata-rata): Menunjukkan nilai rata-rata dari data pada setiap kolom.\n",
        "Rata-rata adalah jumlah dari semua nilai dalam kolom dibagi dengan jumlah data.\n",
        "\n",
        "3. Std (standar deviasi): Menunjukkan ukuran sebaran atau variasi data dalam kolom. Standar deviasi menggambarkan sejauh mana data tersebar dari nilai rata-ratanya. Semakin tinggi nilai standar deviasi, semakin besar variasi data.\n",
        "\n",
        "4. Min (nilai minimum): Menunjukkan nilai terendah dalam kolom. Statistik ini memberikan informasi tentang nilai terkecil yang ada dalam kolom.\n",
        "\n",
        "5. 25%, 50%, 75% (kuartil): Kuartil adalah nilai yang membagi data menjadi empat bagian yang sama besar. Kuartil ke-25% (Q1) menunjukkan nilai di bawah 25% data, kuartil ke-50% (Q2) adalah median, dan kuartil ke-75% (Q3) menunjukkan nilai di bawah 75% data.\n",
        "\n",
        "6. Max (nilai maksimum): Menunjukkan nilai tertinggi dalam kolom. Statistik ini memberikan informasi tentang nilai terbesar yang ada dalam kolom.\n",
        "\n",
        "\n",
        "\n",
        "\n",
        "\n",
        "\n",
        "\n",
        "\n"
      ],
      "metadata": {
        "id": "KLYtNaBJnIGy"
      }
    },
    {
      "cell_type": "markdown",
      "source": [
        "##**Exploratory Data Analysis**"
      ],
      "metadata": {
        "id": "YVd8wfBkV9OE"
      }
    },
    {
      "cell_type": "code",
      "source": [
        "# Membaca dataset dari file CSV\n",
        "df = pd.read_csv('data.csv', sep=';')\n",
        "\n",
        "# Mengambil kolom numerik yang akan dianalisis\n",
        "numeric_columns = ['total', 'poorest_20perc', 'richest_20perc', 'diff']\n",
        "numeric_data = df[numeric_columns]\n",
        "\n",
        "# Menghitung matriks korelasi\n",
        "correlation_matrix = numeric_data.corr()\n",
        "\n",
        "# Membuat plot heatmap dari matriks korelasi\n",
        "plt.figure(figsize=(10, 8))\n",
        "plt.imshow(correlation_matrix, cmap='coolwarm', interpolation='nearest')\n",
        "plt.colorbar()\n",
        "plt.xticks(range(len(numeric_columns)), numeric_columns, rotation=45)\n",
        "plt.yticks(range(len(numeric_columns)), numeric_columns)\n",
        "plt.title('Korelasi antara Kolom Numerik')\n",
        "plt.show()"
      ],
      "metadata": {
        "id": "_ohZShs2Wv9r",
        "colab": {
          "base_uri": "https://localhost:8080/",
          "height": 770
        },
        "outputId": "20439c66-608f-4deb-bcbc-c9cbb3b487ad"
      },
      "execution_count": 46,
      "outputs": [
        {
          "output_type": "display_data",
          "data": {
            "text/plain": [
              "<Figure size 1000x800 with 2 Axes>"
            ],
            "image/png": "[encoded data removed]"
          },
          "metadata": {}
        }
      ]
    },
    {
      "cell_type": "markdown",
      "source": [
        "Dari pola korelasi yang terlihat dalam heatmap diatas, dapat mengambil beberapa kesimpulan:\n",
        "\n",
        "1. Korelasi Positif: Jika dua kolom memiliki warna yang lebih cerah (misalnya, mendekati 1) dalam heatmap, ini menunjukkan korelasi positif antara kedua kolom tersebut. Artinya, ketika nilai salah satu kolom meningkat, nilai kolom lainnya juga cenderung meningkat. Sebaliknya, ketika nilai salah satu kolom menurun, nilai kolom lainnya juga cenderung menurun. Contohnya, 'total' dan 'poorest_20perc' memiliki korelasi positif yang kuat.\n",
        "\n",
        "2. Korelasi Negatif: Jika dua kolom memiliki warna yang lebih gelap (misalnya, mendekati -1) dalam heatmap, ini menunjukkan korelasi negatif antara kedua kolom tersebut. Artinya, ketika nilai salah satu kolom meningkat, nilai kolom lainnya cenderung menurun. Sebaliknya, ketika nilai salah satu kolom menurun, nilai kolom lainnya cenderung meningkat. Contohnya, 'total' dan 'richest_20perc' memiliki korelasi negatif yang kuat.\n",
        "\n",
        "3. Korelasi Lemah: Jika dua kolom memiliki warna yang mendekati nol dalam heatmap, ini menunjukkan korelasi yang lemah atau tidak ada korelasi antara kedua kolom tersebut. Artinya, perubahan dalam nilai salah satu kolom tidak memiliki pengaruh yang signifikan terhadap nilai kolom lainnya. Contohnya, 'poorest_20perc' dan 'diff' memiliki korelasi yang lemah.\n",
        "\n",
        "4. Korelasi Linear: Jika ada pola garis diagonal dari sudut kiri atas ke sudut kanan bawah dalam heatmap, ini menunjukkan adanya korelasi linear antara kolom-kolom tersebut. Artinya, terdapat hubungan linier antara nilai-nilai kolom tersebut. Contohnya, 'total' dan 'diff' memiliki pola korelasi linear yang cukup jelas."
      ],
      "metadata": {
        "id": "YK1jt4YcX3PW"
      }
    },
    {
      "cell_type": "markdown",
      "source": [
        "Setelah visualisasi ditampilkan, wajib diberikan penjelasan yaa dari visualisasi tersebut (Lebih baik tambahkan asumsi seperti, kolom a berpengaruh negatif terhadap kolom b, apabila nilai kolom a meningkat, maka nilai kolom b menurun)\n",
        "\n",
        "Untuk sel nya silahkan ditambahkan sendiri menyesuaikan dengan seberapa banyak visualisasi yang kalian buat"
      ],
      "metadata": {
        "id": "s90ygAoyV_rC"
      }
    },
    {
      "cell_type": "markdown",
      "source": [
        "TAMBAHKAN VISUALISASI KORELASI BESERTA PENJELASANNYA LEBIH BAIK"
      ],
      "metadata": {
        "id": "mGbLuvF8YrDx"
      }
    },
    {
      "cell_type": "markdown",
      "source": [
        "##**Verify Data Quality**"
      ],
      "metadata": {
        "id": "BqwrKc6WXFpz"
      }
    },
    {
      "cell_type": "markdown",
      "source": [
        "####Missing Values"
      ],
      "metadata": {
        "id": "JrPhpE3VXTMR"
      }
    },
    {
      "cell_type": "code",
      "source": [
        "# Membaca dataset dari file CSV\n",
        "df = pd.read_csv('data.csv', sep=';')\n",
        "\n",
        "# Mengecek apakah ada nilai kosong pada tiap kolom\n",
        "missing_values = df.isnull().sum()\n",
        "\n",
        "# Menampilkan jumlah nilai kosong pada tiap kolom\n",
        "print(missing_values)"
      ],
      "metadata": {
        "colab": {
          "base_uri": "https://localhost:8080/"
        },
        "id": "nMFJ5kV_YoOo",
        "outputId": "ee0c77b0-ae31-4d4d-ad76-37045f207a82"
      },
      "execution_count": 45,
      "outputs": [
        {
          "output_type": "stream",
          "name": "stdout",
          "text": [
            "country           0\n",
            "total             0\n",
            "poorest_20perc    0\n",
            "richest_20perc    0\n",
            "diff              0\n",
            "dtype: int64\n"
          ]
        }
      ]
    },
    {
      "cell_type": "markdown",
      "source": [
        "Pada dataset diatas menunjukan bahwa:\n",
        "\n",
        "Pada setiap kolom dalam dataset menunjukan angka 0, maka dapat disimpulkan bahwa tidak ada nilai kosong dalam dataset tersebut."
      ],
      "metadata": {
        "id": "6f10Xqa9ZqRH"
      }
    },
    {
      "cell_type": "markdown",
      "source": [
        "####Outliers Values"
      ],
      "metadata": {
        "id": "jEeCU-vVXV84"
      }
    },
    {
      "cell_type": "code",
      "source": [
        "# Membaca dataset\n",
        "df = pd.read_csv(\"data.csv\", sep=\";\")\n",
        "\n",
        "# Mengecek outliers pada kolom \"total\"\n",
        "Q1 = df['total'].quantile(0.25)\n",
        "Q3 = df['total'].quantile(0.75)\n",
        "IQR = Q3 - Q1\n",
        "lower_bound = Q1 - 1.5 * IQR\n",
        "upper_bound = Q3 + 1.5 * IQR\n",
        "outliers = df[(df['total'] < lower_bound) | (df['total'] > upper_bound)]\n",
        "\n",
        "# Menampilkan outliers\n",
        "if outliers.empty:\n",
        "    print(\"Tidak ada outliers pada kolom 'total'.\")\n",
        "else:\n",
        "    print(\"Outliers pada kolom 'total':\")\n",
        "    print(outliers)\n"
      ],
      "metadata": {
        "id": "HGiqZ6aOX6HY",
        "colab": {
          "base_uri": "https://localhost:8080/"
        },
        "outputId": "cdad72bc-491f-446c-dd87-bf37543f7400"
      },
      "execution_count": 27,
      "outputs": [
        {
          "output_type": "stream",
          "name": "stdout",
          "text": [
            "Tidak ada outliers pada kolom 'total'.\n"
          ]
        }
      ]
    },
    {
      "cell_type": "markdown",
      "source": [
        "Pada kolom ' total ' tidak terdapat adanya outliers"
      ],
      "metadata": {
        "id": "ggn0R2wCXuSC"
      }
    },
    {
      "cell_type": "code",
      "source": [
        "# Membaca dataset\n",
        "df = pd.read_csv(\"data.csv\", sep=\";\")\n",
        "\n",
        "# Mengecek outliers pada kolom \"poorest_20perc\"\n",
        "Q1 = df['poorest_20perc'].quantile(0.25)\n",
        "Q3 = df['poorest_20perc'].quantile(0.75)\n",
        "IQR = Q3 - Q1\n",
        "lower_bound = Q1 - 1.5 * IQR\n",
        "upper_bound = Q3 + 1.5 * IQR\n",
        "outliers = df[(df['poorest_20perc'] < lower_bound) | (df['poorest_20perc'] > upper_bound)]\n",
        "\n",
        "# Menampilkan outliers\n",
        "if outliers.empty:\n",
        "    print(\"Tidak ada outliers pada kolom 'poorest_20perc'.\")\n",
        "else:\n",
        "    print(\"Outliers pada kolom 'poorest_20perc':\")\n",
        "    print(outliers)\n"
      ],
      "metadata": {
        "colab": {
          "base_uri": "https://localhost:8080/"
        },
        "id": "I0B0JITweMdv",
        "outputId": "e32a8c24-80ab-47d3-e9ee-94b765ffc249"
      },
      "execution_count": 44,
      "outputs": [
        {
          "output_type": "stream",
          "name": "stdout",
          "text": [
            "Tidak ada outliers pada kolom 'poorest_20perc'.\n"
          ]
        }
      ]
    },
    {
      "cell_type": "markdown",
      "source": [
        "Pada kolom ' poorest_20perc ' juga tidak terdapat outliers"
      ],
      "metadata": {
        "id": "709rXm4keiNx"
      }
    },
    {
      "cell_type": "code",
      "source": [
        "# Membaca dataset\n",
        "df = pd.read_csv(\"data.csv\", sep=\";\")\n",
        "\n",
        "# Mengecek outliers pada kolom \"richest_20perc\"\n",
        "Q1 = df['richest_20perc'].quantile(0.25)\n",
        "Q3 = df['richest_20perc'].quantile(0.75)\n",
        "IQR = Q3 - Q1\n",
        "lower_bound = Q1 - 1.5 * IQR\n",
        "upper_bound = Q3 + 1.5 * IQR\n",
        "outliers = df[(df['richest_20perc'] < lower_bound) | (df['richest_20perc'] > upper_bound)]\n",
        "\n",
        "# Menampilkan outliers\n",
        "if outliers.empty:\n",
        "    print(\"Tidak ada outliers pada kolom 'richest_20perc'.\")\n",
        "else:\n",
        "    print(\"Outliers pada kolom 'richest_20perc':\")\n",
        "    print(outliers)"
      ],
      "metadata": {
        "colab": {
          "base_uri": "https://localhost:8080/"
        },
        "id": "ww7NVMsTeqqj",
        "outputId": "01b63a9d-133e-4940-a5a7-b51f571a1f8e"
      },
      "execution_count": 43,
      "outputs": [
        {
          "output_type": "stream",
          "name": "stdout",
          "text": [
            "Tidak ada outliers pada kolom 'richest_20perc'.\n"
          ]
        }
      ]
    },
    {
      "cell_type": "markdown",
      "source": [
        "Dan pada kolom 'richest_20perc' tidak terdapat outliers"
      ],
      "metadata": {
        "id": "W78P8Tkme7ap"
      }
    },
    {
      "cell_type": "code",
      "source": [
        "# Membaca dataset\n",
        "df = pd.read_csv(\"data.csv\", sep=\";\")\n",
        "\n",
        "# Mengecek outliers pada kolom \"diff\"\n",
        "Q1 = df['diff'].quantile(0.25)\n",
        "Q3 = df['diff'].quantile(0.75)\n",
        "IQR = Q3 - Q1\n",
        "lower_bound = Q1 - 1.5 * IQR\n",
        "upper_bound = Q3 + 1.5 * IQR\n",
        "outliers = df[(df['diff'] < lower_bound) | (df['diff'] > upper_bound)]\n",
        "\n",
        "# Menampilkan outliers\n",
        "if outliers.empty:\n",
        "    print(\"Tidak ada outliers pada kolom 'diff'.\")\n",
        "else:\n",
        "    print(\"Outliers pada kolom 'diff':\")\n",
        "    print(outliers)"
      ],
      "metadata": {
        "colab": {
          "base_uri": "https://localhost:8080/"
        },
        "id": "FPA4-YLKfK4w",
        "outputId": "a6b60586-9661-43e0-a0ce-3745fd07a301"
      },
      "execution_count": 42,
      "outputs": [
        {
          "output_type": "stream",
          "name": "stdout",
          "text": [
            "Tidak ada outliers pada kolom 'diff'.\n"
          ]
        }
      ]
    },
    {
      "cell_type": "markdown",
      "source": [
        "Pada kolom 'diff' juga tidak ada outliers"
      ],
      "metadata": {
        "id": "2c9sO1zZfZ7w"
      }
    },
    {
      "cell_type": "markdown",
      "source": [
        "####Duplicated Values"
      ],
      "metadata": {
        "id": "vWjwGwZaXaod"
      }
    },
    {
      "cell_type": "code",
      "source": [
        "# Membaca dataset\n",
        "df = pd.read_csv(\"data.csv\", sep=\";\")\n",
        "\n",
        "# Mengecek nilai duplikat pada tiap kolom\n",
        "duplicate_rows = df[df.duplicated()]\n",
        "if duplicate_rows.empty:\n",
        "    print(\"Tidak ada nilai duplikat pada tiap kolom.\")\n",
        "else:\n",
        "    print(\"Nilai duplikat pada tiap kolom:\")\n",
        "    print(duplicate_rows)"
      ],
      "metadata": {
        "colab": {
          "base_uri": "https://localhost:8080/"
        },
        "id": "QHNvgeuDgZYF",
        "outputId": "c5ec5ba9-9000-47b4-af21-1172fe259978"
      },
      "execution_count": 41,
      "outputs": [
        {
          "output_type": "stream",
          "name": "stdout",
          "text": [
            "Tidak ada nilai duplikat pada tiap kolom.\n"
          ]
        }
      ]
    },
    {
      "cell_type": "markdown",
      "source": [
        "Dapat dilihat pada Duplicated Values di tiap kolom dataset, hasilnya tidak ada nilai duplikat pada tiap kolom"
      ],
      "metadata": {
        "id": "VKTUrMJAX0fv"
      }
    },
    {
      "cell_type": "markdown",
      "source": [
        "####Inconsistent Values / Noise (Optional)"
      ],
      "metadata": {
        "id": "q0_lULWDX-y6"
      }
    },
    {
      "cell_type": "code",
      "source": [
        "# Membaca dataset\n",
        "df = pd.read_csv(\"data.csv\", sep=\";\")\n",
        "\n",
        "# Mengecek nilai inkonsisten/noise pada tiap kolom\n",
        "for column in df.columns:\n",
        "    unique_values = df[column].unique()\n",
        "    if len(unique_values) == 1:\n",
        "        print(f\"Kolom '{column}' memiliki nilai inkonsisten/noise.\")\n",
        "        print(\"Nilai yang ditemukan:\", unique_values)\n",
        "    else:\n",
        "        print(f\"Kolom '{column}' tidak memiliki nilai inkonsisten/noise.\")"
      ],
      "metadata": {
        "colab": {
          "base_uri": "https://localhost:8080/"
        },
        "id": "gUfGF3tFh5Nh",
        "outputId": "b05528ab-f7c9-42c5-9697-dc769b23e472"
      },
      "execution_count": 40,
      "outputs": [
        {
          "output_type": "stream",
          "name": "stdout",
          "text": [
            "Kolom 'country' tidak memiliki nilai inkonsisten/noise.\n",
            "Kolom 'total' tidak memiliki nilai inkonsisten/noise.\n",
            "Kolom 'poorest_20perc' tidak memiliki nilai inkonsisten/noise.\n",
            "Kolom 'richest_20perc' tidak memiliki nilai inkonsisten/noise.\n",
            "Kolom 'diff' tidak memiliki nilai inkonsisten/noise.\n"
          ]
        }
      ]
    },
    {
      "cell_type": "markdown",
      "source": [
        "Dalam output diatas, setiap kolom dalam dataset dinyatakan tidak memiliki nilai inkonsisten atau noise karena semua kolom tidak memiliki nilai yang sama di setiap baris datanya. Hal ini menunjukkan bahwa tidak ada nilai yang inkonsisten atau noise dalam dataset tersebut."
      ],
      "metadata": {
        "id": "zN9xijkWYhq2"
      }
    }
  ]
}