{
  "nbformat": 4,
  "nbformat_minor": 0,
  "metadata": {
    "colab": {
      "provenance": [],
      "authorship_tag": "ABX9TyMGHdrSY3ipJF5iOhbpwOPm",
      "include_colab_link": true
    },
    "kernelspec": {
      "name": "python3",
      "display_name": "Python 3"
    },
    "language_info": {
      "name": "python"
    }
  },
  "cells": [
    {
      "cell_type": "markdown",
      "metadata": {
        "id": "view-in-github",
        "colab_type": "text"
      },
      "source": [
        "<a href=\"https://colab.research.google.com/github/N4bilFikri/Data-Mining/blob/main/Tugas1.ipynb\" target=\"_parent\"><img src=\"https://colab.research.google.com/assets/colab-badge.svg\" alt=\"Open In Colab\"/></a>"
      ]
    },
    {
      "cell_type": "markdown",
      "source": [
        "# Perbandingan Akses Pembelajaran Antara Anak-anak Miskin di Negara-negara Berkembang"
      ],
      "metadata": {
        "id": "jVy1Ci_adzSs"
      }
    },
    {
      "cell_type": "markdown",
      "source": [
        "##Business Understanding"
      ],
      "metadata": {
        "id": "0hN9a6ide_ZC"
      }
    },
    {
      "cell_type": "markdown",
      "source": [
        "###Business Objective\n",
        "Tujuan dari dataset ini adalah untuk Menganalisis tingkat negara-negara dengan kesenjangan akses pendidikan yang signifikan antara kelompok anak miskin dan kaya pada negara-negara yang berkembang.\n",
        "\n",
        "###Assess Situation\n",
        "Situasi bisnis yang mendasari analisis ini adalah terjadinya ketimpangan pendidikan di negara-negara berkembang, terdapat kesenjangan yang signifikan antara anak-anak yang hidup dalam kemiskinan dan anak-anak yang berasal dari keluarga kaya dalam hal akses terhadap pendidikan yang berkualitas.\n",
        "\n",
        "###Data Mining Goals\n",
        "Tujuan dari Data Mining pada dataset ini adalah untuk mengidentifikasi faktor penyebab utama yang berkontribusi pada kesenjangan akses terhadap materi pembelajaran bagi anak-anak miskin di negara-negara berkembang.\n",
        "\n",
        "###Project Plan\n",
        "Rencana proyek untuk menganalisis dataset ini mulanya dengan mengumpulkan data yang relevan & memastikan keakuratannya. Selanjutnya, data diidentifikasi tujuan analisis yang ingin dicapai, setelah itu data dieksplorasi untuk memahami karakteristik data, distribusi variabel, dan hubungan antar variabel. Kemudian menggunakan metode meringkas data dan analisis faktor-faktor yang mempengaruhi data, serta membuat kesimpulan yang jelas dan ringkas berdasarkan temuan analisis.\n",
        "\n"
      ],
      "metadata": {
        "id": "GsjeCMIYfOR7"
      }
    }
  ]
}